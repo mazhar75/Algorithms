{
  "nbformat": 4,
  "nbformat_minor": 0,
  "metadata": {
    "colab": {
      "provenance": [],
      "collapsed_sections": [
        "DT351MZqEU5c",
        "YBzpNpluQl01",
        "YxaAET1WiiY3"
      ],
      "authorship_tag": "ABX9TyMjJGVCFnXQhuj092WM/meo",
      "include_colab_link": true
    },
    "kernelspec": {
      "name": "python3",
      "display_name": "Python 3"
    },
    "language_info": {
      "name": "python"
    }
  },
  "cells": [
    {
      "cell_type": "markdown",
      "metadata": {
        "id": "view-in-github",
        "colab_type": "text"
      },
      "source": [
        "<a href=\"https://colab.research.google.com/github/mazhar75/Algorithms/blob/master/security.ipynb\" target=\"_parent\"><img src=\"https://colab.research.google.com/assets/colab-badge.svg\" alt=\"Open In Colab\"/></a>"
      ]
    },
    {
      "cell_type": "markdown",
      "source": [
        "#TASK 01 : Ceaser Cipher"
      ],
      "metadata": {
        "id": "DT351MZqEU5c"
      }
    },
    {
      "cell_type": "markdown",
      "source": [
        "##a) Implement the Decryption part of Caesar Cipher which will take a key and a ciphertext as inputs and give a plaintext as output."
      ],
      "metadata": {
        "id": "Dff5Pdb0Eexw"
      }
    },
    {
      "cell_type": "code",
      "execution_count": 1,
      "metadata": {
        "colab": {
          "base_uri": "https://localhost:8080/"
        },
        "id": "K2J7fai4ENan",
        "outputId": "0b32cc9d-87a0-49aa-bb13-cd53d06d4844"
      },
      "outputs": [
        {
          "output_type": "stream",
          "name": "stdout",
          "text": [
            "Kyxfypsj Gqjyk\n"
          ]
        }
      ],
      "source": [
        "def Ceasar_Cipher_Decryption(key, text):\n",
        "    decrypted_text = \"\"\n",
        "    for char in text:\n",
        "        if char.isupper():\n",
        "            decrypted_text += chr((ord(char) - key - 65) % 26 + 65)\n",
        "        elif char.islower():\n",
        "            decrypted_text += chr((ord(char) - key - 97) % 26 + 97)\n",
        "        else:\n",
        "            decrypted_text += char\n",
        "    return decrypted_text\n",
        "\n",
        "# Test the function\n",
        "s = \"Mazharul Islam\"\n",
        "print(Ceasar_Cipher_Decryption(2, s))\n"
      ]
    },
    {
      "cell_type": "markdown",
      "source": [
        "##b)  Use the above code to crack the following Caesar ciphertext, to identify the text encrypted: \"XNZ XVMIDQVG VO DDXO WPDGYDIB NPNO DN BJDIB OJ WZ BMZVO VBVDI\"."
      ],
      "metadata": {
        "id": "Vleesad9KclG"
      }
    },
    {
      "cell_type": "code",
      "source": [
        "encrypted_text=\"XNZ XVMIDQVG VO DDXO WPDGYDIB NPNO DN BJDIB OJ WZ BMZVO VBVDI\"\n",
        "for i in range(26):\n",
        "  print(\"when key = \",i)\n",
        "  print(Ceasar_Cipher_Decryption(i,encrypted_text))\n"
      ],
      "metadata": {
        "colab": {
          "base_uri": "https://localhost:8080/"
        },
        "id": "WL4shX2_Kwez",
        "outputId": "3d46d696-2539-434f-ca17-1d41aecda54b"
      },
      "execution_count": 2,
      "outputs": [
        {
          "output_type": "stream",
          "name": "stdout",
          "text": [
            "when key =  0\n",
            "XNZ XVMIDQVG VO DDXO WPDGYDIB NPNO DN BJDIB OJ WZ BMZVO VBVDI\n",
            "when key =  1\n",
            "WMY WULHCPUF UN CCWN VOCFXCHA MOMN CM AICHA NI VY ALYUN UAUCH\n",
            "when key =  2\n",
            "VLX VTKGBOTE TM BBVM UNBEWBGZ LNLM BL ZHBGZ MH UX ZKXTM TZTBG\n",
            "when key =  3\n",
            "UKW USJFANSD SL AAUL TMADVAFY KMKL AK YGAFY LG TW YJWSL SYSAF\n",
            "when key =  4\n",
            "TJV TRIEZMRC RK ZZTK SLZCUZEX JLJK ZJ XFZEX KF SV XIVRK RXRZE\n",
            "when key =  5\n",
            "SIU SQHDYLQB QJ YYSJ RKYBTYDW IKIJ YI WEYDW JE RU WHUQJ QWQYD\n",
            "when key =  6\n",
            "RHT RPGCXKPA PI XXRI QJXASXCV HJHI XH VDXCV ID QT VGTPI PVPXC\n",
            "when key =  7\n",
            "QGS QOFBWJOZ OH WWQH PIWZRWBU GIGH WG UCWBU HC PS UFSOH OUOWB\n",
            "when key =  8\n",
            "PFR PNEAVINY NG VVPG OHVYQVAT FHFG VF TBVAT GB OR TERNG NTNVA\n",
            "when key =  9\n",
            "OEQ OMDZUHMX MF UUOF NGUXPUZS EGEF UE SAUZS FA NQ SDQMF MSMUZ\n",
            "when key =  10\n",
            "NDP NLCYTGLW LE TTNE MFTWOTYR DFDE TD RZTYR EZ MP RCPLE LRLTY\n",
            "when key =  11\n",
            "MCO MKBXSFKV KD SSMD LESVNSXQ CECD SC QYSXQ DY LO QBOKD KQKSX\n",
            "when key =  12\n",
            "LBN LJAWREJU JC RRLC KDRUMRWP BDBC RB PXRWP CX KN PANJC JPJRW\n",
            "when key =  13\n",
            "KAM KIZVQDIT IB QQKB JCQTLQVO ACAB QA OWQVO BW JM OZMIB IOIQV\n",
            "when key =  14\n",
            "JZL JHYUPCHS HA PPJA IBPSKPUN ZBZA PZ NVPUN AV IL NYLHA HNHPU\n",
            "when key =  15\n",
            "IYK IGXTOBGR GZ OOIZ HAORJOTM YAYZ OY MUOTM ZU HK MXKGZ GMGOT\n",
            "when key =  16\n",
            "HXJ HFWSNAFQ FY NNHY GZNQINSL XZXY NX LTNSL YT GJ LWJFY FLFNS\n",
            "when key =  17\n",
            "GWI GEVRMZEP EX MMGX FYMPHMRK WYWX MW KSMRK XS FI KVIEX EKEMR\n",
            "when key =  18\n",
            "FVH FDUQLYDO DW LLFW EXLOGLQJ VXVW LV JRLQJ WR EH JUHDW DJDLQ\n",
            "when key =  19\n",
            "EUG ECTPKXCN CV KKEV DWKNFKPI UWUV KU IQKPI VQ DG ITGCV CICKP\n",
            "when key =  20\n",
            "DTF DBSOJWBM BU JJDU CVJMEJOH TVTU JT HPJOH UP CF HSFBU BHBJO\n",
            "when key =  21\n",
            "CSE CARNIVAL AT IICT BUILDING SUST IS GOING TO BE GREAT AGAIN\n",
            "when key =  22\n",
            "BRD BZQMHUZK ZS HHBS ATHKCHMF RTRS HR FNHMF SN AD FQDZS ZFZHM\n",
            "when key =  23\n",
            "AQC AYPLGTYJ YR GGAR ZSGJBGLE QSQR GQ EMGLE RM ZC EPCYR YEYGL\n",
            "when key =  24\n",
            "ZPB ZXOKFSXI XQ FFZQ YRFIAFKD PRPQ FP DLFKD QL YB DOBXQ XDXFK\n",
            "when key =  25\n",
            "YOA YWNJERWH WP EEYP XQEHZEJC OQOP EO CKEJC PK XA CNAWP WCWEJ\n"
          ]
        }
      ]
    },
    {
      "cell_type": "markdown",
      "source": [
        "##C) Use the above code to decode these messages, which were encoded using the same Caesar cipher (among these 03 cipher blocks) and fill up the boxes.\n",
        "\n",
        "\n",
        "\n"
      ],
      "metadata": {
        "id": "7fs5r29ANv7t"
      }
    },
    {
      "cell_type": "code",
      "source": [
        "block1=\"ZKDW GR BRX JHW ZKHQ BRX\"\n",
        "block2=\"FURVV D VQRZPDQ ZLWK D\"\n",
        "block3=\"YDPSLUH? IURVWELWH\"\n",
        "for i in range(26):\n",
        "  print(\"when key = \",i)\n",
        "  print(Ceasar_Cipher_Decryption(i,block1))\n",
        "  print(Ceasar_Cipher_Decryption(i,block2))\n",
        "  print(Ceasar_Cipher_Decryption(i,block3))\n",
        "  print(\"\")\n"
      ],
      "metadata": {
        "colab": {
          "base_uri": "https://localhost:8080/"
        },
        "id": "rG9l2iASOQ1o",
        "outputId": "4352801b-8322-4d33-ab2b-dcea84658082"
      },
      "execution_count": 3,
      "outputs": [
        {
          "output_type": "stream",
          "name": "stdout",
          "text": [
            "when key =  0\n",
            "ZKDW GR BRX JHW ZKHQ BRX\n",
            "FURVV D VQRZPDQ ZLWK D\n",
            "YDPSLUH? IURVWELWH\n",
            "\n",
            "when key =  1\n",
            "YJCV FQ AQW IGV YJGP AQW\n",
            "ETQUU C UPQYOCP YKVJ C\n",
            "XCORKTG? HTQUVDKVG\n",
            "\n",
            "when key =  2\n",
            "XIBU EP ZPV HFU XIFO ZPV\n",
            "DSPTT B TOPXNBO XJUI B\n",
            "WBNQJSF? GSPTUCJUF\n",
            "\n",
            "when key =  3\n",
            "WHAT DO YOU GET WHEN YOU\n",
            "CROSS A SNOWMAN WITH A\n",
            "VAMPIRE? FROSTBITE\n",
            "\n",
            "when key =  4\n",
            "VGZS CN XNT FDS VGDM XNT\n",
            "BQNRR Z RMNVLZM VHSG Z\n",
            "UZLOHQD? EQNRSAHSD\n",
            "\n",
            "when key =  5\n",
            "UFYR BM WMS ECR UFCL WMS\n",
            "APMQQ Y QLMUKYL UGRF Y\n",
            "TYKNGPC? DPMQRZGRC\n",
            "\n",
            "when key =  6\n",
            "TEXQ AL VLR DBQ TEBK VLR\n",
            "ZOLPP X PKLTJXK TFQE X\n",
            "SXJMFOB? COLPQYFQB\n",
            "\n",
            "when key =  7\n",
            "SDWP ZK UKQ CAP SDAJ UKQ\n",
            "YNKOO W OJKSIWJ SEPD W\n",
            "RWILENA? BNKOPXEPA\n",
            "\n",
            "when key =  8\n",
            "RCVO YJ TJP BZO RCZI TJP\n",
            "XMJNN V NIJRHVI RDOC V\n",
            "QVHKDMZ? AMJNOWDOZ\n",
            "\n",
            "when key =  9\n",
            "QBUN XI SIO AYN QBYH SIO\n",
            "WLIMM U MHIQGUH QCNB U\n",
            "PUGJCLY? ZLIMNVCNY\n",
            "\n",
            "when key =  10\n",
            "PATM WH RHN ZXM PAXG RHN\n",
            "VKHLL T LGHPFTG PBMA T\n",
            "OTFIBKX? YKHLMUBMX\n",
            "\n",
            "when key =  11\n",
            "OZSL VG QGM YWL OZWF QGM\n",
            "UJGKK S KFGOESF OALZ S\n",
            "NSEHAJW? XJGKLTALW\n",
            "\n",
            "when key =  12\n",
            "NYRK UF PFL XVK NYVE PFL\n",
            "TIFJJ R JEFNDRE NZKY R\n",
            "MRDGZIV? WIFJKSZKV\n",
            "\n",
            "when key =  13\n",
            "MXQJ TE OEK WUJ MXUD OEK\n",
            "SHEII Q IDEMCQD MYJX Q\n",
            "LQCFYHU? VHEIJRYJU\n",
            "\n",
            "when key =  14\n",
            "LWPI SD NDJ VTI LWTC NDJ\n",
            "RGDHH P HCDLBPC LXIW P\n",
            "KPBEXGT? UGDHIQXIT\n",
            "\n",
            "when key =  15\n",
            "KVOH RC MCI USH KVSB MCI\n",
            "QFCGG O GBCKAOB KWHV O\n",
            "JOADWFS? TFCGHPWHS\n",
            "\n",
            "when key =  16\n",
            "JUNG QB LBH TRG JURA LBH\n",
            "PEBFF N FABJZNA JVGU N\n",
            "INZCVER? SEBFGOVGR\n",
            "\n",
            "when key =  17\n",
            "ITMF PA KAG SQF ITQZ KAG\n",
            "ODAEE M EZAIYMZ IUFT M\n",
            "HMYBUDQ? RDAEFNUFQ\n",
            "\n",
            "when key =  18\n",
            "HSLE OZ JZF RPE HSPY JZF\n",
            "NCZDD L DYZHXLY HTES L\n",
            "GLXATCP? QCZDEMTEP\n",
            "\n",
            "when key =  19\n",
            "GRKD NY IYE QOD GROX IYE\n",
            "MBYCC K CXYGWKX GSDR K\n",
            "FKWZSBO? PBYCDLSDO\n",
            "\n",
            "when key =  20\n",
            "FQJC MX HXD PNC FQNW HXD\n",
            "LAXBB J BWXFVJW FRCQ J\n",
            "EJVYRAN? OAXBCKRCN\n",
            "\n",
            "when key =  21\n",
            "EPIB LW GWC OMB EPMV GWC\n",
            "KZWAA I AVWEUIV EQBP I\n",
            "DIUXQZM? NZWABJQBM\n",
            "\n",
            "when key =  22\n",
            "DOHA KV FVB NLA DOLU FVB\n",
            "JYVZZ H ZUVDTHU DPAO H\n",
            "CHTWPYL? MYVZAIPAL\n",
            "\n",
            "when key =  23\n",
            "CNGZ JU EUA MKZ CNKT EUA\n",
            "IXUYY G YTUCSGT COZN G\n",
            "BGSVOXK? LXUYZHOZK\n",
            "\n",
            "when key =  24\n",
            "BMFY IT DTZ LJY BMJS DTZ\n",
            "HWTXX F XSTBRFS BNYM F\n",
            "AFRUNWJ? KWTXYGNYJ\n",
            "\n",
            "when key =  25\n",
            "ALEX HS CSY KIX ALIR CSY\n",
            "GVSWW E WRSAQER AMXL E\n",
            "ZEQTMVI? JVSWXFMXI\n",
            "\n"
          ]
        }
      ]
    },
    {
      "cell_type": "markdown",
      "source": [
        "#TASK 02 : Substitution Cipher"
      ],
      "metadata": {
        "id": "YBzpNpluQl01"
      }
    },
    {
      "cell_type": "code",
      "source": [
        "from collections import Counter\n",
        "def display_mapping(text, mapping, words_per_line):\n",
        "    n=len(text)\n",
        "    pairs = mapping.split()\n",
        "    mapping_dict = {}\n",
        "    for pair in pairs:\n",
        "        key, value = pair.split(':')\n",
        "        mapping_dict[key] = value\n",
        "    res=\"\"\n",
        "    for i in range(n):\n",
        "      if 'a' <= text[i] <= 'z':\n",
        "           if text[i] in mapping_dict:\n",
        "              res += mapping_dict[text[i]]\n",
        "           else:\n",
        "              res += '*'\n",
        "      elif 'A'<= text[i] <='Z':\n",
        "           if text[i] in mapping_dict:\n",
        "              res += mapping_dict[text[i]]\n",
        "           else:\n",
        "              res += '*'\n",
        "      else:\n",
        "           res += text[i]\n",
        "    words = text.split()\n",
        "    cipher=res.split()\n",
        "    for i in range(0, len(words), words_per_line):\n",
        "        print(' '.join(words[i:i+words_per_line]))\n",
        "    print(\" \")\n",
        "    for i in range(0, len(cipher), words_per_line):\n",
        "        print(' '.join(cipher[i:i+words_per_line]))\n",
        "def freq_analyze(text):\n",
        "  res=Counter(text)\n",
        "  return sorted(res.items(), key=lambda x: x[1], reverse=True)\n"
      ],
      "metadata": {
        "id": "4O905RpMYtYh"
      },
      "execution_count": 4,
      "outputs": []
    },
    {
      "cell_type": "markdown",
      "source": [],
      "metadata": {
        "id": "4zWBEBfiQp8n"
      }
    },
    {
      "cell_type": "markdown",
      "source": [
        " ***a) Encrypted message :***  gtd bsvgl vf fgedsugt dffml dkcymvsf gtmg gtd chjde ha aevdsxftvc tdycf\n",
        "bf gh id fgehsu aehz tmexftvcf. aevdsxf qms uvod bf gtd fgedsugt jd sddx\n",
        "jtds yvad udgf ghbut. vs mxxvgvhs, cdhcyd dkcedff bsvgl gtehbut\n",
        "yhod,amzvyl, aevdsxf, msx hgtdef ftmed fghevdf ha avsxvsu qhzzhs\n",
        "uehbsx jvgt fhzdhsd.gtded med zmsl idsdavgf ha fgmlvsu bsvgdx vs\n",
        "ghbut gvzdf, mf vg tdycf gh amqd qtmyydsuvsu fvgbmgvhsf jvgt\n",
        "qhbemud. gtd vzchegmsqd ha fgmlvsu bsvgdx tmf fgebqp m qthex mzhsu\n",
        "zmsl cdhcyd gtehbuthbg tvfghel.pddcvsu zdzhevdf ha jtmg jd tmod\n",
        "mqqhzcyvftdx gtehbuthbg tvfghel qms tdyc bf fdd thj vsxvovxbmyf msx\n",
        "qhzzbsvgvdf tmod cdefdodedx gtehbut ghbut gvzdf msx vsgh m ievutgde\n",
        "abgbed."
      ],
      "metadata": {
        "id": "wx-iU1lSQ4hn"
      }
    },
    {
      "cell_type": "code",
      "source": [
        "text = \"gtd bsvgl vf fgedsugt dffml dkcymvsf gtmg gtd chjde ha aevdsxftvc tdycf \\\n",
        "bf gh id fgehsu aehz tmexftvcf. aevdsxf qms uvod bf gtd fgedsugt jd sddx \\\n",
        "jtds yvad udgf ghbut. vs mxxvgvhs, cdhcyd dkcedff bsvgl gtehbut \\\n",
        "yhod,amzvyl, aevdsxf, msx hgtdef ftmed fghevdf ha avsxvsu qhzzhs \\\n",
        "uehbsx jvgt fhzdhsd.gtded med zmsl idsdavgf ha fgmlvsu bsvgdx vs \\\n",
        "ghbut gvzdf, mf vg tdycf gh amqd qtmyydsuvsu fvgbmgvhsf jvgt \\\n",
        "qhbemud. gtd vzchegmsqd ha fgmlvsu bsvgdx tmf fgebqp m qthex mzhsu \\\n",
        "zmsl cdhcyd gtehbuthbg tvfghel.pddcvsu zdzhevdf ha jtmg jd tmod \\\n",
        "mqqhzcyvftdx gtehbuthbg tvfghel qms tdyc bf fdd thj vsxvovxbmyf msx \\\n",
        "qhzzbsvgvdf tmod cdefdodedx gtehbut ghbut gvzdf msx vsgh m ievutgde \\\n",
        "abgbed.\"\n",
        "mapping = \"d:e g:t t:h m:a v:i f:s l:y e:r h:o s:n u:g b:u z:m q:c c:p a:f y:l x:d o:v i:b p:k k:x j:w\"\n",
        "words_per_line = 10\n",
        "display_mapping(text, mapping, words_per_line)\n"
      ],
      "metadata": {
        "colab": {
          "base_uri": "https://localhost:8080/"
        },
        "id": "hdOxlSa2QoI4",
        "outputId": "a60a4c04-f87a-4f41-c1c2-50e9501bd03a"
      },
      "execution_count": 5,
      "outputs": [
        {
          "output_type": "stream",
          "name": "stdout",
          "text": [
            "gtd bsvgl vf fgedsugt dffml dkcymvsf gtmg gtd chjde ha\n",
            "aevdsxftvc tdycf bf gh id fgehsu aehz tmexftvcf. aevdsxf qms\n",
            "uvod bf gtd fgedsugt jd sddx jtds yvad udgf ghbut.\n",
            "vs mxxvgvhs, cdhcyd dkcedff bsvgl gtehbut yhod,amzvyl, aevdsxf, msx hgtdef\n",
            "ftmed fghevdf ha avsxvsu qhzzhs uehbsx jvgt fhzdhsd.gtded med zmsl\n",
            "idsdavgf ha fgmlvsu bsvgdx vs ghbut gvzdf, mf vg tdycf\n",
            "gh amqd qtmyydsuvsu fvgbmgvhsf jvgt qhbemud. gtd vzchegmsqd ha fgmlvsu\n",
            "bsvgdx tmf fgebqp m qthex mzhsu zmsl cdhcyd gtehbuthbg tvfghel.pddcvsu\n",
            "zdzhevdf ha jtmg jd tmod mqqhzcyvftdx gtehbuthbg tvfghel qms tdyc\n",
            "bf fdd thj vsxvovxbmyf msx qhzzbsvgvdf tmod cdefdodedx gtehbut ghbut\n",
            "gvzdf msx vsgh m ievutgde abgbed.\n",
            " \n",
            "the unity is strength essay explains that the power of\n",
            "friendship helps us to be strong from hardships. friends can\n",
            "give us the strength we need when life gets tough.\n",
            "in addition, people express unity through love,family, friends, and others\n",
            "share stories of finding common ground with someone.there are many\n",
            "benefits of staying united in tough times, as it helps\n",
            "to face challenging situations with courage. the importance of staying\n",
            "united has struck a chord among many people throughout history.keeping\n",
            "memories of what we have accomplished throughout history can help\n",
            "us see how individuals and communities have persevered through tough\n",
            "times and into a brighter future.\n"
          ]
        }
      ]
    },
    {
      "cell_type": "markdown",
      "source": [],
      "metadata": {
        "id": "9IWz8_DezKWb"
      }
    },
    {
      "cell_type": "markdown",
      "source": [
        "***b) Encrypted message :*** exupziu kxwqxagxom, upm gxsm zs l amtwzo exgg rmqzfm kigg\n",
        "lok xolquxjm.lgwz, l kxwqxagxomk amtwzo qlo qzoutzg lok plokgm\n",
        "upm wxuiluxzo zs gxjxoh xo l wzapxwuxqlumk elc uplo upzwm epz\n",
        "kz ozu.fztmzjmt, xs czi pljm l aglo lok czi elou\n",
        "uz xfagmfmou xu xo czit gxsm upmo czi ommk kxwqxagxom.\n",
        "xu flnmw upxohw mlwc szt czi uz plokgm lok iguxflumgc\n",
        "rtxoh wiqqmww uz czit gxsm.xs ulgn lrziu upm ucamw zs\n",
        "kxwqxagxom, upmo upmc ltm hmomtlggc zs uez ucamw. sxtwu zom\n",
        "xw xokiqmk kxwqxagxom lok upm wmqzok zom xw wmgs-\n",
        "kxwqxagxom.xokiqmk kxwqxagxom\n",
        "xw wzfmupxoh uplu zupmtw ulihpu iw zt em gmlto rc\n",
        "wmmxoh zupmtw. epxgm wmgs-kxwqxagxom qzfmw stzf exupxo lok\n",
        "em gmlto xu zo zit zeo wmgs. wmgs-kxwqxagxom tmyixtmw l gzu\n",
        "zs fzuxjluxzo lok wiaaztu stzf zupmtw.lrzjm lgg, szggzexoh czit klxgc\n",
        "wqpmkigm exupziu loc fxwulnm xw lgwz altu zs rmxoh kxwqxagxomk."
      ],
      "metadata": {
        "id": "smMGwWm-zN-p"
      }
    },
    {
      "cell_type": "code",
      "source": [
        "text_b=\"exupziu kxwqxagxom, upm gxsm zs l amtwzo exgg rmqzfm kigg \\\n",
        "lok xolquxjm.lgwz, l kxwqxagxomk amtwzo qlo qzoutzg lok plokgm \\\n",
        "upm wxuiluxzo zs gxjxoh xo l wzapxwuxqlumk elc uplo upzwm epz \\\n",
        "kz ozu.fztmzjmt, xs czi pljm l aglo lok czi elou \\\n",
        "uz xfagmfmou xu xo czit gxsm upmo czi ommk kxwqxagxom. \\\n",
        "xu flnmw upxohw mlwc szt czi uz plokgm lok iguxflumgc \\\n",
        "rtxoh wiqqmww uz czit gxsm.xs ulgn lrziu upm ucamw zs \\\n",
        "kxwqxagxom, upmo upmc ltm hmomtlggc zs uez ucamw. sxtwu zom \\\n",
        "xw xokiqmk kxwqxagxom lok upm wmqzok zom xw wmgs- \\\n",
        "kxwqxagxom.xokiqmk kxwqxagxom \\\n",
        "xw wzfmupxoh uplu zupmtw ulihpu iw zt em gmlto rc \\\n",
        "wmmxoh zupmtw. epxgm wmgs-kxwqxagxom qzfmw stzf exupxo lok \\\n",
        "em gmlto xu zo zit zeo wmgs. wmgs-kxwqxagxom tmyixtmw l gzu \\\n",
        "zs fzuxjluxzo lok wiaaztu stzf zupmtw.lrzjm lgg, szggzexoh czit klxgc \\\n",
        "wqpmkigm exupziu loc fxwulnm xw lgwz altu zs rmxoh kxwqxagxomk.\"\n",
        "\n",
        "mapping = \"l:a o:n k:d x:i m:e z:o w:s q:c a:p g:l s:f t:r e:w c:y u:t i:u p:h h:g f:m r:b j:v n:k y:q\"\n",
        "words_per_line = 10\n",
        "display_mapping(text_b, mapping, words_per_line)"
      ],
      "metadata": {
        "colab": {
          "base_uri": "https://localhost:8080/"
        },
        "id": "CGux85OiYNDx",
        "outputId": "517744cb-a529-4ebe-955d-a73d50bea117"
      },
      "execution_count": 6,
      "outputs": [
        {
          "output_type": "stream",
          "name": "stdout",
          "text": [
            "exupziu kxwqxagxom, upm gxsm zs l amtwzo exgg rmqzfm kigg\n",
            "lok xolquxjm.lgwz, l kxwqxagxomk amtwzo qlo qzoutzg lok plokgm upm\n",
            "wxuiluxzo zs gxjxoh xo l wzapxwuxqlumk elc uplo upzwm epz\n",
            "kz ozu.fztmzjmt, xs czi pljm l aglo lok czi elou\n",
            "uz xfagmfmou xu xo czit gxsm upmo czi ommk kxwqxagxom.\n",
            "xu flnmw upxohw mlwc szt czi uz plokgm lok iguxflumgc\n",
            "rtxoh wiqqmww uz czit gxsm.xs ulgn lrziu upm ucamw zs\n",
            "kxwqxagxom, upmo upmc ltm hmomtlggc zs uez ucamw. sxtwu zom\n",
            "xw xokiqmk kxwqxagxom lok upm wmqzok zom xw wmgs- kxwqxagxom.xokiqmk\n",
            "kxwqxagxom xw wzfmupxoh uplu zupmtw ulihpu iw zt em gmlto\n",
            "rc wmmxoh zupmtw. epxgm wmgs-kxwqxagxom qzfmw stzf exupxo lok em\n",
            "gmlto xu zo zit zeo wmgs. wmgs-kxwqxagxom tmyixtmw l gzu\n",
            "zs fzuxjluxzo lok wiaaztu stzf zupmtw.lrzjm lgg, szggzexoh czit klxgc\n",
            "wqpmkigm exupziu loc fxwulnm xw lgwz altu zs rmxoh kxwqxagxomk.\n",
            " \n",
            "without discipline, the life of a person will become dull\n",
            "and inactive.also, a disciplined person can control and handle the\n",
            "situation of living in a sophisticated way than those who\n",
            "do not.moreover, if you have a plan and you want\n",
            "to implement it in your life then you need discipline.\n",
            "it makes things easy for you to handle and ultimately\n",
            "bring success to your life.if talk about the types of\n",
            "discipline, then they are generally of two types. first one\n",
            "is induced discipline and the second one is self- discipline.induced\n",
            "discipline is something that others taught us or we learn\n",
            "by seeing others. while self-discipline comes from within and we\n",
            "learn it on our own self. self-discipline requires a lot\n",
            "of motivation and support from others.above all, following your daily\n",
            "schedule without any mistake is also part of being disciplined.\n"
          ]
        }
      ]
    },
    {
      "cell_type": "markdown",
      "source": [
        "***c) Encrypted message :*** AUHC MVKFC V BYZUGC V IZMC CJ GUMBZYAZD UKUVM.\n",
        "VC HZZGZB CJ GZ, V HCJJB PD CFZ VYJM KUCZ AZUBVMK CJ CFZ\n",
        "BYVWZ UMB OJY U IFVAZ, V TJNAB MJC ZMCZY.\n",
        "OJY CFZ IUD, VC IUH PUYYZB CJ GZ."
      ],
      "metadata": {
        "id": "p-Muu-L1L_zc"
      }
    },
    {
      "cell_type": "code",
      "source": [
        "text_c = \"AUHC MVKFC V BYZUGC V IZMC CJ GUMBZYAZD UKUVM. \\\n",
        "VC HZZGZB CJ GZ, V HCJJB PD CFZ VYJM KUCZ AZUBVMK CJ CFZ \\\n",
        "BYVWZ UMB OJY U IFVAZ, V TJNAB MJC ZMCZY. \\\n",
        "OJY CFZ IUD, VC IUH PUYYZB CJ GZ.\"\n",
        "mapping_c =\"V:I Z:E C:T F:H J:O M:N K:G Y:R G:M O:F I:W U:A T:C N:U A:L B:D H:S D:Y P:B W:V\"\n",
        "words_per_line = 10\n",
        "display_mapping(text_c, mapping_c, words_per_line)"
      ],
      "metadata": {
        "colab": {
          "base_uri": "https://localhost:8080/"
        },
        "id": "vegf1Eqfz01m",
        "outputId": "72f90f70-4f6d-477c-cbf4-9c34349a4f9b"
      },
      "execution_count": 7,
      "outputs": [
        {
          "output_type": "stream",
          "name": "stdout",
          "text": [
            "AUHC MVKFC V BYZUGC V IZMC CJ GUMBZYAZD UKUVM. VC\n",
            "HZZGZB CJ GZ, V HCJJB PD CFZ VYJM KUCZ AZUBVMK\n",
            "CJ CFZ BYVWZ UMB OJY U IFVAZ, V TJNAB MJC\n",
            "ZMCZY. OJY CFZ IUD, VC IUH PUYYZB CJ GZ.\n",
            " \n",
            "LAST NIGHT I DREAMT I WENT TO MANDERLEY AGAIN. IT\n",
            "SEEMED TO ME, I STOOD BY THE IRON GATE LEADING\n",
            "TO THE DRIVE AND FOR A WHILE, I COULD NOT\n",
            "ENTER. FOR THE WAY, IT WAS BARRED TO ME.\n"
          ]
        }
      ]
    },
    {
      "cell_type": "markdown",
      "source": [
        "***d) Encrypted message :*** JGRMQOYGHMVBJ WRWQFPW HGF FDQGFPFZR KBEEBJIZQ QO CIBZK.\n",
        "LFAFGQVFZFWW, EOG WOPF GFHWOL PHLR LOLFDMFGQW BLWBWQ OL\n",
        "KFWBYLBLY LFS FLJGRMQBOL WJVFPFW QVHQ WFFP QO QVFP QO CF\n",
        "POGF WFJIGF QVHL HLR OQVFG WJVFPF OL FHGQV. QVF ILEOGQILHQF\n",
        "QGIQV VOSFAFG BW QVHQ WIJV WJVFPFW HGF IWIHZZR QGBABHZ QO\n",
        "CGFHX."
      ],
      "metadata": {
        "id": "MJumrWbeaegU"
      }
    },
    {
      "cell_type": "code",
      "source": [
        "text_d = \"JGRMQOYGHMVBJ WRWQFPW HGF FDQGFPFZR KBEEBJIZQ QO CIBZK. \\\n",
        "LFAFGQVFZFWW, EOG WOPF GFHWOL PHLR LOLFDMFGQW BLWBWQ OL \\\n",
        "KFWBYLBLY LFS FLJGRMQBOL WJVFPFW QVHQ WFFP QO QVFP QO CF \\\n",
        "POGF WFJIGF QVHL HLR OQVFG WJVFPF OL FHGQV. QVF ILEOGQILHQF \\\n",
        "QGIQV VOSFAFG BW QVHQ WIJV WJVFPFW HGF IWIHZZR QGBABHZ QO \\\n",
        "CGFHX.\"\n",
        "mapping_d =\"F:E C:B Q:T V:H H:A P:M O:O L:N G:R I:U W:S J:C R:Y E:F D:X Z:L K:D B:I A:V M:P Y:G S:W X:K\"\n",
        "words_per_line = 10\n",
        "display_mapping(text_d, mapping_d, words_per_line)"
      ],
      "metadata": {
        "colab": {
          "base_uri": "https://localhost:8080/"
        },
        "id": "g0TIT8HAaocW",
        "outputId": "dbec083f-1329-4a4c-f8e5-97eeb3f5c13d"
      },
      "execution_count": 8,
      "outputs": [
        {
          "output_type": "stream",
          "name": "stdout",
          "text": [
            "JGRMQOYGHMVBJ WRWQFPW HGF FDQGFPFZR KBEEBJIZQ QO CIBZK. LFAFGQVFZFWW, EOG WOPF\n",
            "GFHWOL PHLR LOLFDMFGQW BLWBWQ OL KFWBYLBLY LFS FLJGRMQBOL WJVFPFW QVHQ\n",
            "WFFP QO QVFP QO CF POGF WFJIGF QVHL HLR OQVFG\n",
            "WJVFPF OL FHGQV. QVF ILEOGQILHQF QGIQV VOSFAFG BW QVHQ WIJV\n",
            "WJVFPFW HGF IWIHZZR QGBABHZ QO CGFHX.\n",
            " \n",
            "CRYPTOGRAPHIC SYSTEMS ARE EXTREMELY DIFFICULT TO BUILD. NEVERTHELESS, FOR SOME\n",
            "REASON MANY NONEXPERTS INSIST ON DESIGNING NEW ENCRYPTION SCHEMES THAT\n",
            "SEEM TO THEM TO BE MORE SECURE THAN ANY OTHER\n",
            "SCHEME ON EARTH. THE UNFORTUNATE TRUTH HOWEVER IS THAT SUCH\n",
            "SCHEMES ARE USUALLY TRIVIAL TO BREAK.\n"
          ]
        }
      ]
    },
    {
      "cell_type": "code",
      "source": [
        "freq_analyze(text_d)"
      ],
      "metadata": {
        "colab": {
          "base_uri": "https://localhost:8080/"
        },
        "id": "5SeOwARTKxAq",
        "outputId": "8b76c199-f260-46fc-e52f-4d31e2a9e087"
      },
      "execution_count": 9,
      "outputs": [
        {
          "output_type": "execute_result",
          "data": {
            "text/plain": [
              "[(' ', 45),\n",
              " ('F', 37),\n",
              " ('Q', 26),\n",
              " ('W', 21),\n",
              " ('G', 19),\n",
              " ('L', 17),\n",
              " ('O', 16),\n",
              " ('V', 15),\n",
              " ('H', 14),\n",
              " ('B', 12),\n",
              " ('P', 10),\n",
              " ('J', 9),\n",
              " ('I', 9),\n",
              " ('R', 7),\n",
              " ('Z', 7),\n",
              " ('M', 4),\n",
              " ('E', 4),\n",
              " ('Y', 3),\n",
              " ('K', 3),\n",
              " ('C', 3),\n",
              " ('.', 3),\n",
              " ('A', 3),\n",
              " ('D', 2),\n",
              " ('S', 2),\n",
              " (',', 1),\n",
              " ('X', 1)]"
            ]
          },
          "metadata": {},
          "execution_count": 9
        }
      ]
    },
    {
      "cell_type": "markdown",
      "source": [
        "#TASK 03:Vignere crypto"
      ],
      "metadata": {
        "id": "YxaAET1WiiY3"
      }
    },
    {
      "cell_type": "code",
      "source": [
        "def Vignere_Encryption(text,key):\n",
        "  n=len(text)\n",
        "  m=len(key)\n",
        "  mapping=\"\"\n",
        "  ind=0\n",
        "  for i in range(n):\n",
        "    if 'a'<=text[i]<='z':\n",
        "      mapping += key[ind]\n",
        "      ind=ind+1\n",
        "    elif 'A'<=text[i]<='Z':\n",
        "      mapping += key[ind]\n",
        "      ind=ind+1\n",
        "    else:\n",
        "      mapping += text[i]\n",
        "    ind=ind%m\n",
        "  decrypted_text=\"\"\n",
        "  for i in range(n):\n",
        "    if 'a'<=text[i]<='z':\n",
        "      decrypted_text += chr((ord(text[i])-97+ord(mapping[i])-97)%26+97)\n",
        "    elif 'A'<=text[i]<='Z':\n",
        "      decrypted_text += chr((ord(text[i])-65+ord(mapping[i])-65)%26+65)\n",
        "    else:\n",
        "      decrypted_text += text[i]\n",
        "  return decrypted_text\n",
        "\n",
        "def Vignere_Decryption(text,key):\n",
        "  n=len(text)\n",
        "  m=len(key)\n",
        "  mapping=\"\"\n",
        "  ind=0\n",
        "  for i in range(n):\n",
        "    if 'a'<=text[i]<='z':\n",
        "      mapping += key[ind]\n",
        "      ind=ind+1\n",
        "    elif 'A'<=text[i]<='Z':\n",
        "      mapping += key[ind]\n",
        "      ind=ind+1\n",
        "    else:\n",
        "      mapping += text[i]\n",
        "    ind=ind%m\n",
        "  decrypted_text=\"\"\n",
        "  for i in range(n):\n",
        "    if 'a'<=text[i]<='z':\n",
        "      decrypted_text += chr((ord(text[i])-97-ord(mapping[i])-97)%26+97)\n",
        "    elif 'A'<=text[i]<='Z':\n",
        "      decrypted_text += chr((ord(text[i])-65-ord(mapping[i])-65)%26+65)\n",
        "    else:\n",
        "      decrypted_text += text[i]\n",
        "  return decrypted_text\n",
        "print(\"Welcome to Vignere Crypto System !\")\n",
        "while 1:\n",
        "  text = input(\"Enter Your Cipher Here : \")\n",
        "  key = input(\"Enter your key here : \")\n",
        "  choice=int(input(\"For Encryption type 1 and for decryption type 2 : \"))\n",
        "  if choice==1:\n",
        "    msg = Vignere_Encryption(text,key)\n",
        "    print(\"Your Cipher :\")\n",
        "    print(text)\n",
        "    print(\"Encrypted msg :\")\n",
        "    print(msg)\n",
        "  else :\n",
        "    msg=Vignere_Decryption(text,key)\n",
        "    print(\"Your Cipher :\")\n",
        "    print(text)\n",
        "    print(\"Dncrypted msg :\")\n",
        "    print(msg)\n",
        "  print(\"To quit type 0 \")\n",
        "  q=int(input())\n",
        "  if q==0:\n",
        "    break"
      ],
      "metadata": {
        "colab": {
          "base_uri": "https://localhost:8080/"
        },
        "id": "9-6R-GIViywW",
        "outputId": "e5e2a040-98cc-4357-a758-4265138853b0"
      },
      "execution_count": 10,
      "outputs": [
        {
          "name": "stdout",
          "output_type": "stream",
          "text": [
            "Welcome to Vignere Crypto System !\n",
            "Enter Your Cipher Here : hello\n",
            "Enter your key here : hi\n",
            "For Encryption type 1 and for decryption type 2 : 1\n",
            "Your Cipher :\n",
            "hello\n",
            "Encrypted msg :\n",
            "omstv\n",
            "To quit type 0 \n",
            "0\n"
          ]
        }
      ]
    },
    {
      "cell_type": "markdown",
      "source": [
        "#TASK 04:HILL CIPHER"
      ],
      "metadata": {
        "id": "86nWd4Xa1KXo"
      }
    },
    {
      "cell_type": "code",
      "source": [
        "def decrypt(ciphertext, key_matrix):\n",
        "    # Remove spaces and convert to uppercase\n",
        "    ciphertext = ciphertext.replace(\" \", \"\").upper()\n",
        "\n",
        "    # Convert characters to numbers\n",
        "    ciphertext_numbers = np.array([ord(char) - ord('A') for char in ciphertext])\n",
        "\n",
        "    # Determine the size of the key matrix\n",
        "    n = key_matrix.shape[0]\n",
        "\n",
        "    # Calculate the determinant of the key matrix\n",
        "    det = int(np.round(np.linalg.det(key_matrix)))\n",
        "\n",
        "    # Calculate the inverse of the key matrix\n",
        "    inv_key_matrix = np.linalg.inv(key_matrix)\n",
        "\n",
        "    # Calculate the modular inverse of the determinant\n",
        "    det_inv = None\n",
        "    for i in range(26):\n",
        "        if (det * i) % 26 == 1:\n",
        "            det_inv = i\n",
        "            break\n",
        "\n",
        "    if det_inv is None:\n",
        "        raise ValueError(\"Determinant has no modular inverse (not relatively prime with 26)\")\n",
        "\n",
        "    # Calculate the adjugate of the key matrix\n",
        "    adj_key_matrix = (det * inv_key_matrix) % 26\n",
        "\n",
        "    # Multiply the adjugate by the modular inverse of the determinant\n",
        "    inv_key_matrix_mod26 = (det_inv * adj_key_matrix) % 26\n",
        "\n",
        "    # Perform decryption: multiply the inverse key matrix with the ciphertext matrix\n",
        "    plaintext_numbers = np.dot(inv_key_matrix_mod26, ciphertext_numbers) % 26\n",
        "\n",
        "    # Ensure all numbers are within the range 0-25\n",
        "    plaintext_numbers = np.mod(plaintext_numbers.astype(int), 26)\n",
        "\n",
        "    # Convert numbers back to characters\n",
        "    plaintext = \"\".join([chr(num + ord('A')) for num in plaintext_numbers])\n",
        "\n",
        "    return plaintext\n"
      ],
      "metadata": {
        "id": "6UlYpTXYVWbv"
      },
      "execution_count": 11,
      "outputs": []
    },
    {
      "cell_type": "code",
      "source": [
        "import numpy as np\n",
        "\n",
        "# Function to generate the key matrix from the provided key\n",
        "def generate_key_matrix(key):\n",
        "    # Remove spaces from the key\n",
        "    key = key.replace(\" \", \"\")\n",
        "    # Calculate the size of the key matrix (it's a square matrix)\n",
        "    n = int(np.sqrt(len(key)))\n",
        "    # Convert the key string to numbers (A=0, B=1, ..., Z=25)\n",
        "    key_matrix = np.array([ord(char) - ord('A') for char in key])\n",
        "    # Resize the key matrix to the appropriate size\n",
        "    key_matrix.resize((n, n))\n",
        "    # Print the key matrix (optional)\n",
        "    print(key_matrix)\n",
        "    return key_matrix\n",
        "\n",
        "# Function to encrypt plaintext using the provided key matrix\n",
        "def encrypt(plaintext, key_matrix):\n",
        "\n",
        "    plaintext = plaintext.replace(\" \", \"\").upper()\n",
        "    # Determine the size of the key matrix (number of rows/columns)\n",
        "    n = key_matrix.shape[0]\n",
        "    # Add padding to the plaintext if necessary to make it divisible by the size of the key matrix\n",
        "    if len(plaintext) % n != 0:\n",
        "        plaintext += 'X' * (n - len(plaintext) % n)\n",
        "\n",
        "    ciphertext = \"\"\n",
        "    # Encrypt the plaintext block by block\n",
        "\n",
        "    for i in range(0, len(plaintext), n):\n",
        "        # Extract a block of plaintext characters\n",
        "\n",
        "        block = np.array([ord(char) - ord('A') for char in plaintext[i:i+n]])\n",
        "        # Resize the block to a column vector\n",
        "\n",
        "        block.resize((n, 1))\n",
        "        # Perform encryption: multiply the key matrix with the plaintext block and take modulo 26\n",
        "\n",
        "        encrypted_block = np.dot(key_matrix, block) % 26\n",
        "        # Convert the encrypted block back to characters\n",
        "\n",
        "        ciphertext += ''.join([chr(char + ord('A')) for char in encrypted_block.flatten()])\n",
        "    return ciphertext\n",
        "\n",
        "\n",
        "# Sample key\n",
        "key = \"THIS IS MD MAZHARUL ISLAM NIHAD FROM SUST CSE\"\n",
        "key_matrix = generate_key_matrix(key)\n",
        "\n",
        "# Ask user for operation\n",
        "operation = input(\"Enter 'E' for encryption or 'D' for decryption: \").upper()\n",
        "\n",
        "if operation == 'E':\n",
        "    plaintext = input(\"Enter the plaintext: \")\n",
        "    print(\"Ciphertext:\", encrypt(plaintext, key_matrix))\n",
        "elif operation == 'D':\n",
        "    plaintext = input(\"Enter the plaintext: \")\n",
        "    print(\"Ciphertext:\", decrypt(plaintext, key_matrix))\n",
        "else:\n",
        "    print(\"Invalid operation. Please enter 'E' or 'D' for encryption or decryption.\")"
      ],
      "metadata": {
        "colab": {
          "base_uri": "https://localhost:8080/"
        },
        "id": "R9FgiY7Y1SNx",
        "outputId": "6582925c-854f-4667-b06e-1770e954bbc4"
      },
      "execution_count": 12,
      "outputs": [
        {
          "output_type": "stream",
          "name": "stdout",
          "text": [
            "[[19  7  8 18  8 18]\n",
            " [12  3 12  0 25  7]\n",
            " [ 0 17 20 11  8 18]\n",
            " [11  0 12 13  8  7]\n",
            " [ 0  3  5 17 14 12]\n",
            " [18 20 18 19  2 18]]\n",
            "Enter 'E' for encryption or 'D' for decryption: E\n",
            "Enter the plaintext: hello\n",
            "Ciphertext: LLZBYP\n"
          ]
        }
      ]
    },
    {
      "cell_type": "code",
      "source": [
        "# Sample key\n",
        "key = \"THIS IS MD MAZHARUL ISLAM NIHAD FROM SUST CSE\"\n",
        "key_matrix = generate_key_matrix(key)\n",
        "\n",
        "# Ask user for operation\n",
        "operation = input(\"Enter 'E' for encryption or 'D' for decryption: \").upper()\n",
        "\n",
        "if operation == 'E':\n",
        "    plaintext = input(\"Enter the plaintext: \")\n",
        "    print(\"Ciphertext:\", encrypt(plaintext, key_matrix))\n",
        "elif operation == 'D':\n",
        "    plaintext = input(\"Enter the plaintext: \")\n",
        "    print(\"Ciphertext:\", decrypt(plaintext, key_matrix))\n",
        "else:\n",
        "    print(\"Invalid operation. Please enter 'E' or 'D' for encryption or decryption.\")"
      ],
      "metadata": {
        "colab": {
          "base_uri": "https://localhost:8080/"
        },
        "id": "V_juBBbxqsY1",
        "outputId": "0c661799-60c5-4b61-e089-e5b566f65a55"
      },
      "execution_count": 13,
      "outputs": [
        {
          "output_type": "stream",
          "name": "stdout",
          "text": [
            "[[19  7  8 18  8 18]\n",
            " [12  3 12  0 25  7]\n",
            " [ 0 17 20 11  8 18]\n",
            " [11  0 12 13  8  7]\n",
            " [ 0  3  5 17 14 12]\n",
            " [18 20 18 19  2 18]]\n",
            "Enter 'E' for encryption or 'D' for decryption: E\n",
            "Enter the plaintext: HELLO\n",
            "Ciphertext: LLZBYP\n"
          ]
        }
      ]
    }
  ]
}